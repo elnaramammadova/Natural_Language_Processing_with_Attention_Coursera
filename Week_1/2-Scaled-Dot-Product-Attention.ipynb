{
 "cells": [
  {
   "cell_type": "markdown",
   "metadata": {},
   "source": [
    "# Scaled Dot-Product Attention\n",
    "\n",
    "The 2017 paper [Attention Is All You Need](https://arxiv.org/abs/1706.03762) introduced the Transformer model and scaled dot-product attention, sometimes also called QKV (**Q**ueries, **K**eys, **V**alues) attention. Since then, Transformers have come to dominate large-scale natural language applications. Scaled dot-product attention can be used to improve seq2seq models as well. In this ungraded lab, you'll implement a simplified version of scaled dot-product attention and replicate word alignment between English and French, as shown in [Bhadanau, et al. (2014)](https://arxiv.org/abs/1409.0473).\n",
    "\n",
    "The Transformer model learns how to align words in different languages. You won't be training any weights here, so instead I've prepared some [pre-trained aligned word embeddings from here](https://fasttext.cc/docs/en/aligned-vectors.html). Run the cell below to load the embeddings and set up the rest of the notebook."
   ]
  },
  {
   "cell_type": "markdown",
   "id": "2397d020",
   "metadata": {},
   "source": [
    "### Load word2int dictionaries and word embedding for English and French words"
   ]
  },
  {
   "cell_type": "code",
   "execution_count": 1,
   "metadata": {},
   "outputs": [],
   "source": [
    "import pickle\n",
    "import matplotlib.pyplot as plt\n",
    "import numpy as np\n",
    "\n",
    "# Load the word2int dictionaries\n",
    "with open(\"./data/word2int_en.pkl\", \"rb\") as f:\n",
    "    en_words = pickle.load(f)\n",
    "    \n",
    "with open(\"./data/word2int_fr.pkl\", \"rb\") as f:\n",
    "    fr_words = pickle.load(f)\n",
    "\n",
    "# Load the word embeddings\n",
    "en_embeddings = np.load(\"./data/embeddings_en.npz\")[\"embeddings\"]\n",
    "fr_embeddings = np.load(\"./data/embeddings_fr.npz\")[\"embeddings\"]"
   ]
  },
  {
   "cell_type": "markdown",
   "id": "c0006dad",
   "metadata": {},
   "source": [
    "The next two code snippet consists of two Python functions: `tokenize` and `embed`, which are commonly used in natural language processing (NLP). These functions help convert human-readable text into a form that can be interpreted by machine learning models. Here's a breakdown:\n",
    "\n",
    "### Function 1: `tokenize`\n"
   ]
  },
  {
   "cell_type": "code",
   "execution_count": 2,
   "id": "04f6d3c4",
   "metadata": {},
   "outputs": [],
   "source": [
    "def tokenize(sentence, token_mapping):\n",
    "    tokenized = []\n",
    "    \n",
    "    for word in sentence.lower().split(\" \"):\n",
    "        try:\n",
    "            tokenized.append(token_mapping[word])\n",
    "        except KeyError:\n",
    "            # Using -1 to indicate an unknown word\n",
    "            tokenized.append(-1)\n",
    "        \n",
    "    return tokenized"
   ]
  },
  {
   "cell_type": "markdown",
   "id": "d741f785",
   "metadata": {},
   "source": [
    "#### Explanation:\n",
    "- **Input**:\n",
    "    - `sentence`: A string containing the text to be tokenized.\n",
    "    - `token_mapping`: A word2int dictionary where keys are words and values are their corresponding integer tokens.\n",
    "  \n",
    "- **Process**:\n",
    "    - The function initializes an empty list, `tokenized`.\n",
    "    - It then iterates over each word in the input `sentence`, converting it to lowercase and splitting it into words based on spaces.\n",
    "    - For each word, it tries to find its corresponding token using `token_mapping` (word2int). If the word exists in `token_mapping`, its token is added to the `tokenized` list.\n",
    "    - If a `KeyError` is encountered (the word is not in `token_mapping`), it adds `-1` to `tokenized` to indicate an unknown word.\n",
    "    \n",
    "- **Output**:\n",
    "    - Returns `tokenized`: A list of integers representing the tokenized form of the input sentence.\n"
   ]
  },
  {
   "cell_type": "markdown",
   "id": "17244f84",
   "metadata": {},
   "source": [
    "### Function 2: `embed`"
   ]
  },
  {
   "cell_type": "code",
   "execution_count": 3,
   "id": "feed69cf",
   "metadata": {},
   "outputs": [],
   "source": [
    "def embed(tokens, embeddings):\n",
    "    embed_size = embeddings.shape[1]\n",
    "    \n",
    "    output = np.zeros((len(tokens), embed_size))\n",
    "    for i, token in enumerate(tokens):\n",
    "        if token == -1:\n",
    "            output[i] = np.zeros((1, embed_size))\n",
    "        else:\n",
    "            output[i] = embeddings[token]\n",
    "            \n",
    "    return output"
   ]
  },
  {
   "cell_type": "markdown",
   "id": "4d44c30b",
   "metadata": {},
   "source": [
    "#### Explanation:\n",
    "- **Input**:\n",
    "    - `tokens`: A list of integers obtained from the `tokenize` function, representing the tokenized form of a sentence.\n",
    "    - `embeddings`: A 2D NumPy array where each row corresponds to a word's embedding vector.\n",
    "    \n",
    "- **Process**:\n",
    "    - `embed_size` stores the size of the embedding vectors, which is the number of columns in the `embeddings` matrix.\n",
    "    - `output` is initialized as a 2D zero matrix with a shape of `(len(tokens), embed_size)`.\n",
    "    - The function iterates over each token in `tokens`:\n",
    "        - If a token is `-1` (unknown word), it assigns a zero vector to the corresponding row in `output`.\n",
    "        - Otherwise, it assigns the embedding vector from `embeddings` corresponding to the token.\n",
    "        \n",
    "- **Output**:\n",
    "    - Returns `output`: A 2D array where each row represents the embedding vector of a corresponding token in the input sentence.\n",
    "\n",
    "### Note:\n",
    "- Tokenization and embedding are fundamental steps in preparing textual data for machine learning models in NLP, converting human-readable text into numerical vectors that models can learn from.\n",
    "- Handling unknown words (like with `-1` and zero-vectors) is a typical challenge in NLP, and there are various strategies to manage them based on the application."
   ]
  },
  {
   "cell_type": "markdown",
   "metadata": {},
   "source": [
    "The scaled-dot product attention consists of two matrix multiplications and a softmax scaling as shown in the diagram below from [Vaswani, et al. (2017)](https://arxiv.org/abs/1706.03762). It takes three input matrices, the queries, keys, and values.\n",
    "\n",
    "![scaled-dot product attention diagram](./images/attention.png)\n",
    "\n",
    "Mathematically, this is expressed as\n",
    "\n",
    "$$ \n",
    "\\large \\mathrm{Attention}\\left(Q, K, V\\right) = \\mathrm{softmax}\\left(\\frac{QK^{\\top}}{\\sqrt{d_k}}\\right)V\n",
    "$$\n",
    "\n",
    "where $Q$, $K$, and $V$ are the queries, keys, and values matrices respectively, and $d_k$ is the dimension of the keys. In practice, Q, K, and V all have the same dimensions. This form of attention is faster and more space-efficient than what you implemented before since it consists of only matrix multiplications instead of a learned feed-forward layer.\n",
    "\n",
    "Conceptually, the first matrix multiplication is a measure of the similarity between the queries and the keys. This is transformed into weights using the softmax function. These weights are then applied to the values with the second matrix multiplication resulting in output attention vectors. Typically, decoder states are used as the queries while encoder states are the keys and values.\n",
    "\n",
    "### Exercise 1\n",
    "Implement the softmax function with Numpy and use it to calculate the weights from the queries and keys. Assume the queries and keys are 2D arrays (matrices). Note that since the dot-product of Q and K will be a matrix, you'll need to take care to calculate softmax over a specific axis."
   ]
  },
  {
   "cell_type": "markdown",
   "id": "12dba729",
   "metadata": {},
   "source": [
    "### `softmax` Funtion"
   ]
  },
  {
   "cell_type": "code",
   "execution_count": 4,
   "id": "ddf78c0a",
   "metadata": {},
   "outputs": [],
   "source": [
    "def softmax(x, axis=0):    \n",
    "    \"\"\" Calculate softmax function for an array x\n",
    "\n",
    "        axis=0 calculates softmax across rows which means each column sums to 1 \n",
    "        axis=1 calculates softmax across columns which means each row sums to 1\n",
    "    \"\"\"\n",
    "    # subtract the max for numerical stability\n",
    "    x = x - np.expand_dims(np.max(x, axis=axis), axis)\n",
    "    # calculate the softmax\n",
    "    return np.exp(x)/np.sum(np.exp(x), axis=axis, keepdims=True)"
   ]
  },
  {
   "cell_type": "markdown",
   "id": "12c1d049",
   "metadata": {},
   "source": [
    "## Explanation\n",
    "\n",
    "The code snippet provided is a Python function implementing the **Softmax function**, a fundamental concept frequently utilized in machine learning, particularly in classification problems.\n",
    "\n",
    "### Overview of Softmax Function\n",
    "\n",
    "The **Softmax function** is utilized to convert a vector of raw scores (or \"logits\") into probabilities. Given an input vector `[z_1, z_2, ..., z_n]`, the Softmax function, %\\sigma%, outputs a vector `[p_1, p_2, ..., p_n]` where each `p_i` is defined as:\n",
    "\n",
    "$$p_i = \\frac{e^{z_i}}{\\sum_{j=1}^{n} e^{z_j}}$$\n",
    "\n",
    "### Key Characteristics of the Function\n",
    "\n",
    "#### 1. **Numerical Stability**\n",
    "   \n",
    "In the implementation, the maximum value along the specified axis is subtracted from each element before applying the exponential function. This is a common practice to enhance numerical stability and prevent potential overflow/underflow issues.\n",
    "\n",
    "```python\n",
    "x = x - np.expand_dims(np.max(x, axis=axis), axis)\n",
    "```\n",
    "\n",
    "#### 2. **Flexibility with Axis**\n",
    "\n",
    "The function is designed to calculate the Softmax across different axes (`axis=0` for columns, and `axis=1` for rows), providing flexibility depending on the desired application.\n",
    "\n",
    "- When `axis=0`, it calculates the Softmax across columns, meaning each column's values are transformed into probabilities and all values in a column sum to 1.\n",
    "- When `axis=1`, it calculates the Softmax across rows, meaning each row's values are converted into probabilities, and all values in a row sum to 1.\n",
    "\n",
    "#### 3. **Calculation of Probabilities**\n",
    "\n",
    "The Softmax is calculated by:\n",
    "   \n",
    "- Taking the exponential of each element in the input array, $e^{x_i}$.\n",
    "- Dividing each element by the sum of the exponentials along the specified axis.\n",
    "\n",
    "```python\n",
    "return np.exp(x) / np.expand_dims(np.sum(np.exp(x), axis=axis), axis)\n",
    "```\n",
    "\n",
    "### Usage Example\n",
    "\n",
    "Suppose we have a 2x3 matrix representing raw score outputs from a model, and we want to convert them into probabilities:\n",
    "\n",
    "```python\n",
    "z = np.array([[1.0, 2.0, 3.0], \n",
    "              [1.0, 2.0, 3.0]])\n",
    "```\n",
    "\n",
    "Calculating the Softmax across rows:\n",
    "\n",
    "```python\n",
    "softmax_probs = softmax(z, axis=1)\n",
    "```\n",
    "\n",
    "`softmax_probs` will be a matrix of the same shape, with each row containing probabilities derived from the respective original raw scores."
   ]
  },
  {
   "cell_type": "markdown",
   "id": "428a9e93",
   "metadata": {},
   "source": [
    "### `calculate_weights` Function"
   ]
  },
  {
   "cell_type": "code",
   "execution_count": 5,
   "metadata": {},
   "outputs": [],
   "source": [
    "def calculate_weights(queries, keys):\n",
    "    \"\"\" Calculate the weights for scaled dot-product attention\"\"\"\n",
    "    # Calculate the dot product between the queries and keys and normalize it (as seen in the equation above)\n",
    "    dot = np.matmul(queries, keys.T)/np.sqrt(keys.shape[1])\n",
    "    weights = softmax(dot, axis=1)\n",
    "    \n",
    "    assert weights.sum(axis=1)[0] == 1, \"Each row in weights must sum to 1\"\n",
    "    \n",
    "    # Replace pass with your code.\n",
    "    return weights"
   ]
  },
  {
   "cell_type": "markdown",
   "id": "a7503840",
   "metadata": {},
   "source": [
    "### Explanation\n",
    "\n",
    "The `calculate_weights` function is designed to compute the weights for scaled dot-product attention, commonly used in Transformer models.\n",
    "\n",
    "#### Parameters:\n",
    "- **queries**: A matrix representing the query vectors - $Q$.\n",
    "- **keys**: A matrix representing the key vectors - $K$.\n",
    "\n",
    "#### Steps:\n",
    "\n",
    "1. **Dot Product Calculation**:\n",
    "   - The function computes the dot product between the `queries` and the transpose of `keys` $QK^{\\top}$. \n",
    "   - This dot product essentially measures the similarity between each query and key.\n",
    "   - The dot product values are then divided by the square root of the dimension of the keys (`keys.shape[1]`). This normalization by the square root of the depth of the keys ($\\sqrt{d_k}$) helps in stabilizing gradients, especially for large values of `d_k`. \n",
    "   $$\\left(\\frac{QK^{\\top}}{\\sqrt{d_k}}\\right)$$\n",
    "\n",
    "2. **Softmax Calculation**:\n",
    "   - The softmax function is applied along `axis=1`, which means it's applied to each row independently. This ensures that each row in the resulting `weights` matrix will sum up to 1.\n",
    "   - The softmax function ensures that values in each row are between 0 and 1 and gives a probability distribution over the keys for each query.\n",
    "   $$\\mathrm{softmax}\\left(\\frac{QK^{\\top}}{\\sqrt{d_k}}\\right)$$\n",
    "\n",
    "3. **Assertion**:\n",
    "   - An assertion checks that the sum of values in each row of the `weights` matrix is indeed 1. This ensures the correctness of the softmax operation.\n",
    "\n",
    "4. **Return**:\n",
    "   - The function returns the `weights` matrix, which holds the attention weights corresponding to the similarity between each query and key pair.\n",
    "\n",
    "\n",
    "This function is a core component of the scaled dot-product attention mechanism, and these weights can be later used to weigh the values in the attention mechanism, giving more importance to certain values based on the computed weights."
   ]
  },
  {
   "cell_type": "code",
   "execution_count": 13,
   "metadata": {},
   "outputs": [
    {
     "data": {
      "image/png": "[encoded data removed]",
      "text/plain": [
       "<Figure size 400x400 with 1 Axes>"
      ]
     },
     "metadata": {},
     "output_type": "display_data"
    }
   ],
   "source": [
    "# Tokenize example sentences in English and French, then get their embeddings\n",
    "sentence_en = \"The agreement on the European Economic Area was signed in August 1992 .\"\n",
    "tokenized_en = tokenize(sentence_en, en_words) # tokenize English sentence using word2int dictionary\n",
    "embedded_en = embed(tokenized_en, en_embeddings) # embed English sentence using word embeddings\n",
    "\n",
    "sentence_fr = \"L accord sur la zone économique européenne a été signé en août 1992 .\"\n",
    "tokenized_fr = tokenize(sentence_fr, fr_words) # tokenize French sentence using word2int dictionary\n",
    "embedded_fr = embed(tokenized_fr, fr_embeddings) # embed French sentence using word embeddings\n",
    "\n",
    "# These weights indicate alignment between words in English and French\n",
    "alignment = calculate_weights(embedded_fr, embedded_en)\n",
    "\n",
    "# Visualize weights to check for alignment\n",
    "fig, ax = plt.subplots(figsize=(4,4))\n",
    "ax.imshow(alignment, cmap='gray')\n",
    "ax.xaxis.tick_top()\n",
    "ax.set_xticks(np.arange(alignment.shape[1]))\n",
    "ax.set_xticklabels(sentence_en.split(\" \"), rotation=90, size=10);\n",
    "ax.set_yticks(np.arange(alignment.shape[0]));\n",
    "ax.set_yticklabels(sentence_fr.split(\" \"), size=10);"
   ]
  },
  {
   "cell_type": "markdown",
   "metadata": {},
   "source": [
    "If you implemented the weights calculations correctly, the alignment matrix should look like this:\n",
    "\n",
    "![alignment visualization](./images/alignment.png)\n",
    "\n",
    "This is a demonstration of alignment where the model has learned which words in English correspond to words in French. For example, the words *signed* and *signé* have a large weight because they have the same meaning. Typically, these alignments are learned using linear layers in the model, but you've used pre-trained embeddings here.\n",
    "\n",
    "### Exercise 2\n",
    "Complete the implementation of scaled dot-product attention using your `calculate_weights` function (ignore the mask)."
   ]
  },
  {
   "cell_type": "markdown",
   "id": "0f53387d",
   "metadata": {},
   "source": [
    "### `attention_qkv` Function"
   ]
  },
  {
   "cell_type": "code",
   "execution_count": 9,
   "metadata": {},
   "outputs": [],
   "source": [
    "def attention_qkv(queries, keys, values):\n",
    "    \"\"\" Calculate scaled dot-product attention from queries, keys, and values matrices \"\"\"\n",
    "    \n",
    "    # Replace pass with your code.\n",
    "    weights = calculate_weights(queries, keys)\n",
    "    attention = np.dot(weights, values)\n",
    "    \n",
    "    return attention\n"
   ]
  },
  {
   "cell_type": "markdown",
   "id": "cee6cd2e",
   "metadata": {},
   "source": [
    "\n",
    "### Explanation\n",
    "\n",
    "The provided function `attention_qkv` calculates the scaled dot-product attention using the `queries` ($Q$), `keys` ($K$), and `values` ($V$) matrices.\n",
    "\n",
    "**Function Details**:\n",
    "- **Parameters**:\n",
    "  - `queries`: The matrix containing query vectors - $Q$.\n",
    "  - `keys`: The matrix containing key vectors - $K$.\n",
    "  - `values`: The matrix containing value vectors - $V$.\n",
    "\n",
    "**Steps**:\n",
    "\n",
    "1. **Calculate Weights**:\n",
    "    The function first calculates the attention weights using the `calculate_weights` function. This function computes the dot product of the `queries` and the transpose of the `keys` matrix, scales it by the inverse square root of the dimension of the keys, and then applies the softmax function to get the weights.\n",
    "    $$\\mathrm{softmax}\\left(\\frac{QK^{\\top}}{\\sqrt{d_k}}\\right)$$\n",
    "   \n",
    "2. **Compute Attention**:\n",
    "    Once the weights are obtained, the function calculates the attention output by taking the dot product of the `weights` matrix and the `values` matrix.\n",
    "    $$\\mathrm{softmax}\\left(\\frac{QK^{\\top}}{\\sqrt{d_k}}\\right)V$$\n",
    "   \n",
    "   \n",
    "3. **Return Attention Output**:\n",
    "    The function returns the computed attention output.\n",
    "\n",
    "\n",
    "The scaled dot-product attention mechanism is commonly used in Transformer architectures. The idea is to compute attention weights based on the similarity (dot product) between the queries and keys and then use these weights to form a weighted combination of values."
   ]
  },
  {
   "cell_type": "code",
   "execution_count": 10,
   "id": "eb8d737d",
   "metadata": {},
   "outputs": [
    {
     "name": "stdout",
     "output_type": "stream",
     "text": [
      "The shape of the attention_qkv function is (14, 300)\n",
      "Some elements of the attention_qkv function are \n",
      "[[-0.04039161 -0.00275749  0.00389873  0.04842744 -0.02472726  0.01435613\n",
      "  -0.00370253 -0.0619686  -0.00206159  0.01615228]\n",
      " [-0.04083253 -0.00245985  0.00409068  0.04830341 -0.02479128  0.01447497\n",
      "  -0.00355203 -0.06196036 -0.00241327  0.01582606]]\n"
     ]
    }
   ],
   "source": [
    "\n",
    "attention_qkv_result = attention_qkv(embedded_fr, embedded_en, embedded_en)\n",
    "\n",
    "print(f\"The shape of the attention_qkv function is {attention_qkv_result.shape}\")\n",
    "print(f\"Some elements of the attention_qkv function are \\n{attention_qkv_result[0:2,:10]}\")"
   ]
  },
  {
   "cell_type": "markdown",
   "metadata": {},
   "source": [
    "**Expected output**\n",
    "\n",
    "The shape of the attention_qkv function is `(14, 300)`\n",
    "\n",
    "Some elements of the attention_qkv function are \n",
    "```python\n",
    "[[-0.04039161 -0.00275749  0.00389873  0.04842744 -0.02472726  0.01435613\n",
    "  -0.00370253 -0.0619686  -0.00206159  0.01615228]\n",
    " [-0.04083253 -0.00245985  0.00409068  0.04830341 -0.02479128  0.01447497\n",
    "  -0.00355203 -0.06196036 -0.00241327  0.01582606]]\n",
    "```"
   ]
  },
  {
   "cell_type": "markdown",
   "metadata": {},
   "source": [
    "## Oficial Lab Solutions"
   ]
  },
  {
   "cell_type": "markdown",
   "metadata": {},
   "source": [
    "```python\n",
    "def softmax(x, axis=0):\n",
    "    \"\"\" Calculate softmax function for an array x\n",
    "    \n",
    "        axis=0 calculates softmax across rows which means each column sums to 1 \n",
    "        axis=1 calculates softmax across columns which means each row sums to 1\n",
    "    \"\"\"\n",
    "    y = np.exp(x) \n",
    "    return y / np.expand_dims(np.sum(y, axis=axis), axis)\n",
    "\n",
    "def calculate_weights(queries, keys):\n",
    "    \"\"\" Calculate the weights for scaled dot-product attention\"\"\"\n",
    "    dot = np.matmul(queries, keys.T)/np.sqrt(keys.shape[1])\n",
    "    weights = softmax(dot, axis=1)\n",
    "    \n",
    "    assert weights.sum(axis=1)[0] == 1, \"Each row in weights must sum to 1\"\n",
    "    \n",
    "    return weights\n",
    "\n",
    "def attention_qkv(queries, keys, values):\n",
    "    \"\"\" Calculate scaled dot-product attention from queries, keys, and values matrices \"\"\"\n",
    "    weights = calculate_weights(queries, keys)\n",
    "    return np.matmul(weights, values)\n",
    "```"
   ]
  }
 ],
 "metadata": {
  "kernelspec": {
   "display_name": "Python 3",
   "language": "python",
   "name": "python3"
  },
  "language_info": {
   "codemirror_mode": {
    "name": "ipython",
    "version": 3
   },
   "file_extension": ".py",
   "mimetype": "text/x-python",
   "name": "python",
   "nbconvert_exporter": "python",
   "pygments_lexer": "ipython3",
   "version": "3.11.4"
  }
 },
 "nbformat": 4,
 "nbformat_minor": 5
}
